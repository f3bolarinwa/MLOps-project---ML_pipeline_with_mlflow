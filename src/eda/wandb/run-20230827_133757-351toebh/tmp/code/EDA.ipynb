{
    "metadata": {
        "kernelspec": {
            "display_name": "Python 3",
            "language": "python",
            "name": "python3"
        },
        "language_info": {
            "codemirror_mode": {
                "name": "ipython",
                "version": 3
            },
            "file_extension": ".py",
            "mimetype": "text/x-python",
            "name": "python",
            "nbconvert_exporter": "python",
            "pygments_lexer": "ipython3",
            "version": "3.9.15"
        }
    },
    "nbformat_minor": 2,
    "nbformat": 4,
    "cells": [
        {
            "cell_type": "code",
            "source": [
                "import wandb\n",
                "import pandas as pd"
            ],
            "metadata": {
                "azdata_cell_guid": "60b5b2e3-e326-4273-bd07-fe8caad31645",
                "language": "python"
            },
            "outputs": [],
            "execution_count": 3
        },
        {
            "cell_type": "code",
            "source": [
                "run = wandb.init(project=\"MLOps_nyc_airbnb\", group=\"EDA\", job_type=\"EDA\", save_code=True)\n",
                "local_path = wandb.use_artifact(\"sample.csv:latest\").file()\n",
                "df = pd.read_csv(local_path)"
            ],
            "metadata": {
                "azdata_cell_guid": "afc7fcd6-90df-4faa-9277-f31916801cb1",
                "language": "python"
            },
            "outputs": [
                {
                    "output_type": "display_data",
                    "data": {
                        "text/html": "Finishing last run (ID:2cv65mc4) before initializing another...",
                        "text/plain": "<IPython.core.display.HTML object>"
                    },
                    "metadata": {}
                },
                {
                    "output_type": "display_data",
                    "data": {
                        "text/html": "<br/>Waiting for W&B process to finish, PID 33669<br/>Program ended successfully.",
                        "text/plain": "<IPython.core.display.HTML object>"
                    },
                    "metadata": {}
                },
                {
                    "output_type": "display_data",
                    "data": {
                        "application/vnd.jupyter.widget-view+json": {
                            "model_id": "",
                            "version_major": 2,
                            "version_minor": 0
                        },
                        "text/plain": "VBox(children=(Label(value=' 0.04MB of 0.04MB uploaded (0.02MB deduped)\\r'), FloatProgress(value=1.0, max=1.0)…"
                    },
                    "metadata": {}
                },
                {
                    "output_type": "display_data",
                    "data": {
                        "text/html": "Find user logs for this run at: <code>/Users/femibolarinwa_comp/Downloads/Udacity/MLOps Engineer/2-Building a Reproducible Model Workflow/build-ml-pipeline-for-short-term-rental-prices/src/eda/wandb/run-20230827_132304-2cv65mc4/logs/debug.log</code>",
                        "text/plain": "<IPython.core.display.HTML object>"
                    },
                    "metadata": {}
                },
                {
                    "output_type": "display_data",
                    "data": {
                        "text/html": "Find internal logs for this run at: <code>/Users/femibolarinwa_comp/Downloads/Udacity/MLOps Engineer/2-Building a Reproducible Model Workflow/build-ml-pipeline-for-short-term-rental-prices/src/eda/wandb/run-20230827_132304-2cv65mc4/logs/debug-internal.log</code>",
                        "text/plain": "<IPython.core.display.HTML object>"
                    },
                    "metadata": {}
                },
                {
                    "output_type": "display_data",
                    "data": {
                        "text/html": "Synced 6 W&B file(s), 0 media file(s), 2 artifact file(s) and 1 other file(s)",
                        "text/plain": "<IPython.core.display.HTML object>"
                    },
                    "metadata": {}
                },
                {
                    "output_type": "display_data",
                    "data": {
                        "text/html": "\n                    <br/>Synced <strong style=\"color:#cdcd00\">tough-firebrand-1</strong>: <a href=\"https://wandb.ai/f3bolarinwa/nyc_airbnb/runs/2cv65mc4\" target=\"_blank\">https://wandb.ai/f3bolarinwa/nyc_airbnb/runs/2cv65mc4</a><br/>\n                ",
                        "text/plain": "<IPython.core.display.HTML object>"
                    },
                    "metadata": {}
                },
                {
                    "output_type": "display_data",
                    "data": {
                        "text/html": "...Successfully finished last run (ID:2cv65mc4). Initializing new run:<br/><br/>",
                        "text/plain": "<IPython.core.display.HTML object>"
                    },
                    "metadata": {}
                },
                {
                    "output_type": "stream",
                    "name": "stderr",
                    "text": "\u001b[34m\u001b[1mwandb\u001b[0m: wandb version 0.15.8 is available!  To upgrade, please run:\n\u001b[34m\u001b[1mwandb\u001b[0m:  $ pip install wandb --upgrade\n"
                },
                {
                    "output_type": "display_data",
                    "data": {
                        "text/html": "\n                Tracking run with wandb version 0.10.31<br/>\n                Syncing run <strong style=\"color:#cdcd00\">vocal-snowflake-6</strong> to <a href=\"https://wandb.ai\" target=\"_blank\">Weights & Biases</a> <a href=\"https://docs.wandb.com/integrations/jupyter.html\" target=\"_blank\">(Documentation)</a>.<br/>\n                Project page: <a href=\"https://wandb.ai/f3bolarinwa/MLOps_nyc_airbnb\" target=\"_blank\">https://wandb.ai/f3bolarinwa/MLOps_nyc_airbnb</a><br/>\n                Run page: <a href=\"https://wandb.ai/f3bolarinwa/MLOps_nyc_airbnb/runs/3dryindv\" target=\"_blank\">https://wandb.ai/f3bolarinwa/MLOps_nyc_airbnb/runs/3dryindv</a><br/>\n                Run data is saved locally in <code>/Users/femibolarinwa_comp/Downloads/Udacity/MLOps Engineer/2-Building a Reproducible Model Workflow/build-ml-pipeline-for-short-term-rental-prices/src/eda/wandb/run-20230827_132439-3dryindv</code><br/><br/>\n            ",
                        "text/plain": "<IPython.core.display.HTML object>"
                    },
                    "metadata": {}
                }
            ],
            "execution_count": 4
        },
        {
            "cell_type": "code",
            "source": [
                "import pandas_profiling\n",
                "\n",
                "profile = pandas_profiling.ProfileReport(df)\n",
                "profile.to_widgets()"
            ],
            "metadata": {
                "azdata_cell_guid": "9d413812-de56-4e3d-888a-99343c2d7682",
                "language": "python"
            },
            "outputs": [
                {
                    "output_type": "stream",
                    "name": "stderr",
                    "text": "/Users/femibolarinwa_comp/miniconda3/envs/mlflow-9b415884987137d6e4126f77b409f166a1853da1/lib/python3.9/site-packages/numba/core/decorators.py:262: NumbaDeprecationWarning: \u001b[1mnumba.generated_jit is deprecated. Please see the documentation at: https://numba.readthedocs.io/en/stable/reference/deprecation.html#deprecation-of-generated-jit for more information and advice on a suitable replacement.\u001b[0m\n  warnings.warn(msg, NumbaDeprecationWarning)\n/Users/femibolarinwa_comp/miniconda3/envs/mlflow-9b415884987137d6e4126f77b409f166a1853da1/lib/python3.9/site-packages/visions/backends/shared/nan_handling.py:51: NumbaDeprecationWarning: \u001b[1mThe 'nopython' keyword argument was not supplied to the 'numba.jit' decorator. The implicit default value for this argument is currently False, but it will be changed to True in Numba 0.59.0. See https://numba.readthedocs.io/en/stable/reference/deprecation.html#deprecation-of-object-mode-fall-back-behaviour-when-using-jit for details.\u001b[0m\n  def hasna(x: np.ndarray) -> bool:\n"
                },
                {
                    "output_type": "display_data",
                    "data": {
                        "application/vnd.jupyter.widget-view+json": {
                            "model_id": "362ae7ab74d344b6812d0fa5b870178d",
                            "version_major": 2,
                            "version_minor": 0
                        },
                        "text/plain": "Summarize dataset:   0%|          | 0/5 [00:00<?, ?it/s]"
                    },
                    "metadata": {}
                },
                {
                    "output_type": "display_data",
                    "data": {
                        "application/vnd.jupyter.widget-view+json": {
                            "model_id": "4f13c43e6e124e40a493aed2092e631e",
                            "version_major": 2,
                            "version_minor": 0
                        },
                        "text/plain": "Generate report structure:   0%|          | 0/1 [00:00<?, ?it/s]"
                    },
                    "metadata": {}
                },
                {
                    "output_type": "display_data",
                    "data": {
                        "application/vnd.jupyter.widget-view+json": {
                            "model_id": "78945ecb04484c7bb93cbf8688e3d4c5",
                            "version_major": 2,
                            "version_minor": 0
                        },
                        "text/plain": "Render widgets:   0%|          | 0/1 [00:00<?, ?it/s]"
                    },
                    "metadata": {}
                },
                {
                    "output_type": "stream",
                    "name": "stderr",
                    "text": "IOPub message rate exceeded.\nThe Jupyter server will temporarily stop sending output\nto the client in order to avoid crashing it.\nTo change this limit, set the config variable\n`--ServerApp.iopub_msg_rate_limit`.\n\nCurrent values:\nServerApp.iopub_msg_rate_limit=1000.0 (msgs/sec)\nServerApp.rate_limit_window=3.0 (secs)\n\nIOPub message rate exceeded.\nThe Jupyter server will temporarily stop sending output\nto the client in order to avoid crashing it.\nTo change this limit, set the config variable\n`--ServerApp.iopub_msg_rate_limit`.\n\nCurrent values:\nServerApp.iopub_msg_rate_limit=1000.0 (msgs/sec)\nServerApp.rate_limit_window=3.0 (secs)\n\n"
                }
            ],
            "execution_count": 5
        },
        {
            "cell_type": "code",
            "source": [
                "# Drop outliers\n",
                "min_price = 10\n",
                "max_price = 350\n",
                "idx = df['price'].between(min_price, max_price)\n",
                "df = df[idx].copy()\n",
                "# Convert last_review to datetime\n",
                "df['last_review'] = pd.to_datetime(df['last_review'])"
            ],
            "metadata": {
                "azdata_cell_guid": "4ec31603-d5a3-4172-85ac-deb03266ea2b",
                "language": "python"
            },
            "outputs": [],
            "execution_count": 6
        },
        {
            "cell_type": "code",
            "source": [
                "df.info()"
            ],
            "metadata": {
                "azdata_cell_guid": "76d04d5d-a71b-4dba-96a1-52fecc3fff4e",
                "language": "python"
            },
            "outputs": [
                {
                    "output_type": "stream",
                    "name": "stdout",
                    "text": "<class 'pandas.core.frame.DataFrame'>\nInt64Index: 19001 entries, 0 to 19999\nData columns (total 16 columns):\n #   Column                          Non-Null Count  Dtype         \n---  ------                          --------------  -----         \n 0   id                              19001 non-null  int64         \n 1   name                            18994 non-null  object        \n 2   host_id                         19001 non-null  int64         \n 3   host_name                       18993 non-null  object        \n 4   neighbourhood_group             19001 non-null  object        \n 5   neighbourhood                   19001 non-null  object        \n 6   latitude                        19001 non-null  float64       \n 7   longitude                       19001 non-null  float64       \n 8   room_type                       19001 non-null  object        \n 9   price                           19001 non-null  int64         \n 10  minimum_nights                  19001 non-null  int64         \n 11  number_of_reviews               19001 non-null  int64         \n 12  last_review                     15243 non-null  datetime64[ns]\n 13  reviews_per_month               15243 non-null  float64       \n 14  calculated_host_listings_count  19001 non-null  int64         \n 15  availability_365                19001 non-null  int64         \ndtypes: datetime64[ns](1), float64(3), int64(7), object(5)\nmemory usage: 2.5+ MB\n"
                }
            ],
            "execution_count": 7
        },
        {
            "cell_type": "code",
            "source": [
                "df.head()"
            ],
            "metadata": {
                "azdata_cell_guid": "f8c18a4e-3f2e-453e-8775-0ae8cc1d21fc",
                "language": "python"
            },
            "outputs": [
                {
                    "output_type": "execute_result",
                    "execution_count": 8,
                    "data": {
                        "text/html": "<div>\n<style scoped>\n    .dataframe tbody tr th:only-of-type {\n        vertical-align: middle;\n    }\n\n    .dataframe tbody tr th {\n        vertical-align: top;\n    }\n\n    .dataframe thead th {\n        text-align: right;\n    }\n</style>\n<table border=\"1\" class=\"dataframe\">\n  <thead>\n    <tr style=\"text-align: right;\">\n      <th></th>\n      <th>id</th>\n      <th>name</th>\n      <th>host_id</th>\n      <th>host_name</th>\n      <th>neighbourhood_group</th>\n      <th>neighbourhood</th>\n      <th>latitude</th>\n      <th>longitude</th>\n      <th>room_type</th>\n      <th>price</th>\n      <th>minimum_nights</th>\n      <th>number_of_reviews</th>\n      <th>last_review</th>\n      <th>reviews_per_month</th>\n      <th>calculated_host_listings_count</th>\n      <th>availability_365</th>\n    </tr>\n  </thead>\n  <tbody>\n    <tr>\n      <th>0</th>\n      <td>9138664</td>\n      <td>Private Lg Room 15 min to Manhattan</td>\n      <td>47594947</td>\n      <td>Iris</td>\n      <td>Queens</td>\n      <td>Sunnyside</td>\n      <td>40.74271</td>\n      <td>-73.92493</td>\n      <td>Private room</td>\n      <td>74</td>\n      <td>2</td>\n      <td>6</td>\n      <td>2019-05-26</td>\n      <td>0.13</td>\n      <td>1</td>\n      <td>5</td>\n    </tr>\n    <tr>\n      <th>1</th>\n      <td>31444015</td>\n      <td>TIME SQUARE CHARMING ONE BED IN HELL'S KITCHEN...</td>\n      <td>8523790</td>\n      <td>Johlex</td>\n      <td>Manhattan</td>\n      <td>Hell's Kitchen</td>\n      <td>40.76682</td>\n      <td>-73.98878</td>\n      <td>Entire home/apt</td>\n      <td>170</td>\n      <td>3</td>\n      <td>0</td>\n      <td>NaT</td>\n      <td>NaN</td>\n      <td>1</td>\n      <td>188</td>\n    </tr>\n    <tr>\n      <th>2</th>\n      <td>8741020</td>\n      <td>Voted #1 Location Quintessential 1BR W Village...</td>\n      <td>45854238</td>\n      <td>John</td>\n      <td>Manhattan</td>\n      <td>West Village</td>\n      <td>40.73631</td>\n      <td>-74.00611</td>\n      <td>Entire home/apt</td>\n      <td>245</td>\n      <td>3</td>\n      <td>51</td>\n      <td>2018-09-19</td>\n      <td>1.12</td>\n      <td>1</td>\n      <td>0</td>\n    </tr>\n    <tr>\n      <th>3</th>\n      <td>34602077</td>\n      <td>Spacious 1 bedroom apartment 15min from Manhattan</td>\n      <td>261055465</td>\n      <td>Regan</td>\n      <td>Queens</td>\n      <td>Astoria</td>\n      <td>40.76424</td>\n      <td>-73.92351</td>\n      <td>Entire home/apt</td>\n      <td>125</td>\n      <td>3</td>\n      <td>1</td>\n      <td>2019-05-24</td>\n      <td>0.65</td>\n      <td>1</td>\n      <td>13</td>\n    </tr>\n    <tr>\n      <th>4</th>\n      <td>23203149</td>\n      <td>Big beautiful bedroom in huge Bushwick apartment</td>\n      <td>143460</td>\n      <td>Megan</td>\n      <td>Brooklyn</td>\n      <td>Bushwick</td>\n      <td>40.69839</td>\n      <td>-73.92044</td>\n      <td>Private room</td>\n      <td>65</td>\n      <td>2</td>\n      <td>8</td>\n      <td>2019-06-23</td>\n      <td>0.52</td>\n      <td>2</td>\n      <td>8</td>\n    </tr>\n  </tbody>\n</table>\n</div>",
                        "text/plain": "         id                                               name    host_id  \\\n0   9138664                Private Lg Room 15 min to Manhattan   47594947   \n1  31444015  TIME SQUARE CHARMING ONE BED IN HELL'S KITCHEN...    8523790   \n2   8741020  Voted #1 Location Quintessential 1BR W Village...   45854238   \n3  34602077  Spacious 1 bedroom apartment 15min from Manhattan  261055465   \n4  23203149   Big beautiful bedroom in huge Bushwick apartment     143460   \n\n  host_name neighbourhood_group   neighbourhood  latitude  longitude  \\\n0      Iris              Queens       Sunnyside  40.74271  -73.92493   \n1    Johlex           Manhattan  Hell's Kitchen  40.76682  -73.98878   \n2      John           Manhattan    West Village  40.73631  -74.00611   \n3     Regan              Queens         Astoria  40.76424  -73.92351   \n4     Megan            Brooklyn        Bushwick  40.69839  -73.92044   \n\n         room_type  price  minimum_nights  number_of_reviews last_review  \\\n0     Private room     74               2                  6  2019-05-26   \n1  Entire home/apt    170               3                  0         NaT   \n2  Entire home/apt    245               3                 51  2018-09-19   \n3  Entire home/apt    125               3                  1  2019-05-24   \n4     Private room     65               2                  8  2019-06-23   \n\n   reviews_per_month  calculated_host_listings_count  availability_365  \n0               0.13                               1                 5  \n1                NaN                               1               188  \n2               1.12                               1                 0  \n3               0.65                               1                13  \n4               0.52                               2                 8  "
                    },
                    "metadata": {}
                }
            ],
            "execution_count": 8
        },
        {
            "cell_type": "code",
            "source": [
                "run.finish()"
            ],
            "metadata": {
                "azdata_cell_guid": "47c6b5df-3500-4205-983b-a4ed378114a8",
                "language": "python"
            },
            "outputs": [
                {
                    "output_type": "display_data",
                    "data": {
                        "text/html": "<br/>Waiting for W&B process to finish, PID 33747<br/>Program ended successfully.",
                        "text/plain": "<IPython.core.display.HTML object>"
                    },
                    "metadata": {}
                },
                {
                    "output_type": "display_data",
                    "data": {
                        "application/vnd.jupyter.widget-view+json": {
                            "model_id": "",
                            "version_major": 2,
                            "version_minor": 0
                        },
                        "text/plain": "VBox(children=(Label(value=' 0.02MB of 0.02MB uploaded (0.00MB deduped)\\r'), FloatProgress(value=1.0, max=1.0)…"
                    },
                    "metadata": {}
                },
                {
                    "output_type": "display_data",
                    "data": {
                        "text/html": "Find user logs for this run at: <code>/Users/femibolarinwa_comp/Downloads/Udacity/MLOps Engineer/2-Building a Reproducible Model Workflow/build-ml-pipeline-for-short-term-rental-prices/src/eda/wandb/run-20230827_132439-3dryindv/logs/debug.log</code>",
                        "text/plain": "<IPython.core.display.HTML object>"
                    },
                    "metadata": {}
                },
                {
                    "output_type": "display_data",
                    "data": {
                        "text/html": "Find internal logs for this run at: <code>/Users/femibolarinwa_comp/Downloads/Udacity/MLOps Engineer/2-Building a Reproducible Model Workflow/build-ml-pipeline-for-short-term-rental-prices/src/eda/wandb/run-20230827_132439-3dryindv/logs/debug-internal.log</code>",
                        "text/plain": "<IPython.core.display.HTML object>"
                    },
                    "metadata": {}
                },
                {
                    "output_type": "display_data",
                    "data": {
                        "text/html": "Synced 7 W&B file(s), 0 media file(s), 0 artifact file(s) and 0 other file(s)",
                        "text/plain": "<IPython.core.display.HTML object>"
                    },
                    "metadata": {}
                },
                {
                    "output_type": "display_data",
                    "data": {
                        "text/html": "\n                    <br/>Synced <strong style=\"color:#cdcd00\">vocal-snowflake-6</strong>: <a href=\"https://wandb.ai/f3bolarinwa/MLOps_nyc_airbnb/runs/3dryindv\" target=\"_blank\">https://wandb.ai/f3bolarinwa/MLOps_nyc_airbnb/runs/3dryindv</a><br/>\n                ",
                        "text/plain": "<IPython.core.display.HTML object>"
                    },
                    "metadata": {}
                }
            ],
            "execution_count": 9
        },
        {
            "cell_type": "code",
            "source": [],
            "metadata": {
                "azdata_cell_guid": "c48d22a5-2254-40b9-be83-deb25de3c76d",
                "language": "python"
            },
            "outputs": [],
            "execution_count": null
        }
    ]
}